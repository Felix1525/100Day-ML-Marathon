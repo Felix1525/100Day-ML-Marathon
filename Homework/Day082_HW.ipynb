{
 "cells": [
  {
   "cell_type": "markdown",
   "metadata": {},
   "source": [
    "## Work\n",
    "1. 請比較使用不同層數以及不同 Dropout rate 對訓練的效果\n",
    "2. 將 optimizer 改成使用 Adam 並加上適當的 dropout rate 檢視結果"
   ]
  },
  {
   "cell_type": "code",
   "execution_count": 1,
   "metadata": {},
   "outputs": [
    {
     "name": "stderr",
     "output_type": "stream",
     "text": [
      "Using TensorFlow backend.\n"
     ]
    }
   ],
   "source": [
    "import os\n",
    "import keras\n",
    "import itertools\n",
    "from keras.layers import Dropout\n",
    "# Disable GPU\n",
    "os.environ[\"CUDA_VISIBLE_DEVICES\"] = \"\""
   ]
  },
  {
   "cell_type": "code",
   "execution_count": 2,
   "metadata": {},
   "outputs": [],
   "source": [
    "train, test = keras.datasets.cifar10.load_data()"
   ]
  },
  {
   "cell_type": "code",
   "execution_count": 3,
   "metadata": {},
   "outputs": [],
   "source": [
    "## 資料前處理\n",
    "def preproc_x(x, flatten=True):\n",
    "    x = x / 255.\n",
    "    if flatten:\n",
    "        x = x.reshape((len(x), -1))\n",
    "    return x\n",
    "\n",
    "def preproc_y(y, num_classes=10):\n",
    "    if y.shape[-1] == 1:\n",
    "        y = keras.utils.to_categorical(y, num_classes)\n",
    "    return y    "
   ]
  },
  {
   "cell_type": "code",
   "execution_count": 4,
   "metadata": {},
   "outputs": [],
   "source": [
    "x_train, y_train = train\n",
    "x_test, y_test = test\n",
    "\n",
    "# Preproc the inputs\n",
    "x_train = preproc_x(x_train)\n",
    "x_test = preproc_x(x_test)\n",
    "\n",
    "# Preprc the outputs\n",
    "y_train = preproc_y(y_train)\n",
    "y_test = preproc_y(y_test)"
   ]
  },
  {
   "cell_type": "code",
   "execution_count": 5,
   "metadata": {},
   "outputs": [],
   "source": [
    "def build_mlp(input_shape, output_units=10, num_neurons=[512, 256, 128, 64], drp_ratio=0.2):\n",
    "    input_layer = keras.layers.Input(input_shape)\n",
    "    \n",
    "    for i, n_units in enumerate(num_neurons):\n",
    "        if i == 0:\n",
    "            x = keras.layers.Dense(units=n_units, \n",
    "                                   activation=\"relu\", \n",
    "                                   name=\"hidden_layer\"+str(i+1))(input_layer)\n",
    "            x = Dropout(drp_ratio)(x)\n",
    "        else:\n",
    "            x = keras.layers.Dense(units=n_units, \n",
    "                                   activation=\"relu\", \n",
    "                                   name=\"hidden_layer\"+str(i+1))(x)\n",
    "            x = Dropout(drp_ratio)(x)\n",
    "    \n",
    "    out = keras.layers.Dense(units=output_units, activation=\"softmax\", name=\"output\")(x)\n",
    "    \n",
    "    model = keras.models.Model(inputs=[input_layer], outputs=[out])\n",
    "    return model"
   ]
  },
  {
   "cell_type": "code",
   "execution_count": 6,
   "metadata": {},
   "outputs": [],
   "source": [
    "LEARNING_RATE = 1e-3\n",
    "EPOCHS = 50\n",
    "BATCH_SIZE = 256\n",
    "MOMENTUM = 0.95\n",
    "Dropout_EXP = 0.15"
   ]
  },
  {
   "cell_type": "code",
   "execution_count": 7,
   "metadata": {
    "scrolled": false
   },
   "outputs": [
    {
     "name": "stdout",
     "output_type": "stream",
     "text": [
      "Model: \"model_1\"\n",
      "_________________________________________________________________\n",
      "Layer (type)                 Output Shape              Param #   \n",
      "=================================================================\n",
      "input_1 (InputLayer)         (None, 3072)              0         \n",
      "_________________________________________________________________\n",
      "hidden_layer1 (Dense)        (None, 512)               1573376   \n",
      "_________________________________________________________________\n",
      "dropout_1 (Dropout)          (None, 512)               0         \n",
      "_________________________________________________________________\n",
      "hidden_layer2 (Dense)        (None, 256)               131328    \n",
      "_________________________________________________________________\n",
      "dropout_2 (Dropout)          (None, 256)               0         \n",
      "_________________________________________________________________\n",
      "hidden_layer3 (Dense)        (None, 128)               32896     \n",
      "_________________________________________________________________\n",
      "dropout_3 (Dropout)          (None, 128)               0         \n",
      "_________________________________________________________________\n",
      "hidden_layer4 (Dense)        (None, 64)                8256      \n",
      "_________________________________________________________________\n",
      "dropout_4 (Dropout)          (None, 64)                0         \n",
      "_________________________________________________________________\n",
      "output (Dense)               (None, 10)                650       \n",
      "=================================================================\n",
      "Total params: 1,746,506\n",
      "Trainable params: 1,746,506\n",
      "Non-trainable params: 0\n",
      "_________________________________________________________________\n",
      "Train on 50000 samples, validate on 10000 samples\n",
      "Epoch 1/50\n",
      "50000/50000 [==============================] - 13s 259us/step - loss: 2.0523 - accuracy: 0.2344 - val_loss: 1.8190 - val_accuracy: 0.3481\n",
      "Epoch 2/50\n",
      "50000/50000 [==============================] - 14s 286us/step - loss: 1.8566 - accuracy: 0.3239 - val_loss: 1.7750 - val_accuracy: 0.3685\n",
      "Epoch 3/50\n",
      "50000/50000 [==============================] - 18s 352us/step - loss: 1.7836 - accuracy: 0.3545 - val_loss: 1.7026 - val_accuracy: 0.3934\n",
      "Epoch 4/50\n",
      "50000/50000 [==============================] - 14s 281us/step - loss: 1.7429 - accuracy: 0.3751 - val_loss: 1.6508 - val_accuracy: 0.4082\n",
      "Epoch 5/50\n",
      "50000/50000 [==============================] - 12s 238us/step - loss: 1.7046 - accuracy: 0.3864 - val_loss: 1.6473 - val_accuracy: 0.4046\n",
      "Epoch 6/50\n",
      "50000/50000 [==============================] - 13s 263us/step - loss: 1.6753 - accuracy: 0.3997 - val_loss: 1.5963 - val_accuracy: 0.4311\n",
      "Epoch 7/50\n",
      "50000/50000 [==============================] - 12s 246us/step - loss: 1.6469 - accuracy: 0.4127 - val_loss: 1.5821 - val_accuracy: 0.4403\n",
      "Epoch 8/50\n",
      "50000/50000 [==============================] - 11s 224us/step - loss: 1.6329 - accuracy: 0.4151 - val_loss: 1.5370 - val_accuracy: 0.4537\n",
      "Epoch 9/50\n",
      "50000/50000 [==============================] - 11s 228us/step - loss: 1.6108 - accuracy: 0.4215 - val_loss: 1.5604 - val_accuracy: 0.4414\n",
      "Epoch 10/50\n",
      "50000/50000 [==============================] - 12s 246us/step - loss: 1.5915 - accuracy: 0.4290 - val_loss: 1.5476 - val_accuracy: 0.4499\n",
      "Epoch 11/50\n",
      "50000/50000 [==============================] - 12s 243us/step - loss: 1.5901 - accuracy: 0.4309 - val_loss: 1.5332 - val_accuracy: 0.4547\n",
      "Epoch 12/50\n",
      "50000/50000 [==============================] - 12s 237us/step - loss: 1.5702 - accuracy: 0.4348 - val_loss: 1.5043 - val_accuracy: 0.4665\n",
      "Epoch 13/50\n",
      "50000/50000 [==============================] - 12s 236us/step - loss: 1.5535 - accuracy: 0.4436 - val_loss: 1.4805 - val_accuracy: 0.4771\n",
      "Epoch 14/50\n",
      "50000/50000 [==============================] - 12s 236us/step - loss: 1.5428 - accuracy: 0.4452 - val_loss: 1.4870 - val_accuracy: 0.4735\n",
      "Epoch 15/50\n",
      "50000/50000 [==============================] - 12s 246us/step - loss: 1.5341 - accuracy: 0.4488 - val_loss: 1.4768 - val_accuracy: 0.4777\n",
      "Epoch 16/50\n",
      "50000/50000 [==============================] - 12s 242us/step - loss: 1.5191 - accuracy: 0.4551 - val_loss: 1.4631 - val_accuracy: 0.4838\n",
      "Epoch 17/50\n",
      "50000/50000 [==============================] - 12s 240us/step - loss: 1.5161 - accuracy: 0.4531 - val_loss: 1.4691 - val_accuracy: 0.4765\n",
      "Epoch 18/50\n",
      "50000/50000 [==============================] - 12s 239us/step - loss: 1.4971 - accuracy: 0.4628 - val_loss: 1.4667 - val_accuracy: 0.4780\n",
      "Epoch 19/50\n",
      "50000/50000 [==============================] - 12s 241us/step - loss: 1.4968 - accuracy: 0.4639 - val_loss: 1.4407 - val_accuracy: 0.4888\n",
      "Epoch 20/50\n",
      "50000/50000 [==============================] - 12s 240us/step - loss: 1.4862 - accuracy: 0.4669 - val_loss: 1.4286 - val_accuracy: 0.4910\n",
      "Epoch 21/50\n",
      "50000/50000 [==============================] - 12s 240us/step - loss: 1.4735 - accuracy: 0.4732 - val_loss: 1.4490 - val_accuracy: 0.4866\n",
      "Epoch 22/50\n",
      "50000/50000 [==============================] - 12s 240us/step - loss: 1.4747 - accuracy: 0.4718 - val_loss: 1.4309 - val_accuracy: 0.4908\n",
      "Epoch 23/50\n",
      "50000/50000 [==============================] - 12s 242us/step - loss: 1.4650 - accuracy: 0.4753 - val_loss: 1.4368 - val_accuracy: 0.4909\n",
      "Epoch 24/50\n",
      "50000/50000 [==============================] - 12s 241us/step - loss: 1.4550 - accuracy: 0.4772 - val_loss: 1.4318 - val_accuracy: 0.4913\n",
      "Epoch 25/50\n",
      "50000/50000 [==============================] - 12s 243us/step - loss: 1.4524 - accuracy: 0.4757 - val_loss: 1.4217 - val_accuracy: 0.4986\n",
      "Epoch 26/50\n",
      "50000/50000 [==============================] - 12s 242us/step - loss: 1.4437 - accuracy: 0.4816 - val_loss: 1.4263 - val_accuracy: 0.4938\n",
      "Epoch 27/50\n",
      "50000/50000 [==============================] - 12s 242us/step - loss: 1.4319 - accuracy: 0.4871 - val_loss: 1.4137 - val_accuracy: 0.4991\n",
      "Epoch 28/50\n",
      "50000/50000 [==============================] - 12s 242us/step - loss: 1.4413 - accuracy: 0.4813 - val_loss: 1.4029 - val_accuracy: 0.5006\n",
      "Epoch 29/50\n",
      "50000/50000 [==============================] - 12s 242us/step - loss: 1.4268 - accuracy: 0.4884 - val_loss: 1.3902 - val_accuracy: 0.5037\n",
      "Epoch 30/50\n",
      "50000/50000 [==============================] - 13s 252us/step - loss: 1.4184 - accuracy: 0.4904 - val_loss: 1.4421 - val_accuracy: 0.4891\n",
      "Epoch 31/50\n",
      "50000/50000 [==============================] - 12s 233us/step - loss: 1.4168 - accuracy: 0.4908 - val_loss: 1.4137 - val_accuracy: 0.4967\n",
      "Epoch 32/50\n",
      "50000/50000 [==============================] - 12s 239us/step - loss: 1.4118 - accuracy: 0.4912 - val_loss: 1.4056 - val_accuracy: 0.4989\n",
      "Epoch 33/50\n",
      "50000/50000 [==============================] - 10s 205us/step - loss: 1.4058 - accuracy: 0.4941 - val_loss: 1.4203 - val_accuracy: 0.4975\n",
      "Epoch 34/50\n",
      "50000/50000 [==============================] - 10s 206us/step - loss: 1.4011 - accuracy: 0.4958 - val_loss: 1.3933 - val_accuracy: 0.5033\n",
      "Epoch 35/50\n",
      "50000/50000 [==============================] - 10s 210us/step - loss: 1.4019 - accuracy: 0.4982 - val_loss: 1.4242 - val_accuracy: 0.4922\n",
      "Epoch 36/50\n",
      "50000/50000 [==============================] - 14s 286us/step - loss: 1.3921 - accuracy: 0.5002 - val_loss: 1.3979 - val_accuracy: 0.5060\n",
      "Epoch 37/50\n",
      "50000/50000 [==============================] - 13s 258us/step - loss: 1.3931 - accuracy: 0.5001 - val_loss: 1.3879 - val_accuracy: 0.5112\n",
      "Epoch 38/50\n",
      "50000/50000 [==============================] - 13s 253us/step - loss: 1.3911 - accuracy: 0.5007 - val_loss: 1.4005 - val_accuracy: 0.5059\n",
      "Epoch 39/50\n",
      "50000/50000 [==============================] - 11s 230us/step - loss: 1.3875 - accuracy: 0.5009 - val_loss: 1.3983 - val_accuracy: 0.4983\n",
      "Epoch 40/50\n",
      "50000/50000 [==============================] - 12s 237us/step - loss: 1.3768 - accuracy: 0.5056 - val_loss: 1.4051 - val_accuracy: 0.4999\n",
      "Epoch 41/50\n",
      "50000/50000 [==============================] - 12s 239us/step - loss: 1.3763 - accuracy: 0.5082 - val_loss: 1.3859 - val_accuracy: 0.5049\n",
      "Epoch 42/50\n",
      "50000/50000 [==============================] - 12s 234us/step - loss: 1.3639 - accuracy: 0.5121 - val_loss: 1.3909 - val_accuracy: 0.5028\n",
      "Epoch 43/50\n",
      "50000/50000 [==============================] - 12s 236us/step - loss: 1.3674 - accuracy: 0.5101 - val_loss: 1.3953 - val_accuracy: 0.5058\n",
      "Epoch 44/50\n",
      "50000/50000 [==============================] - 11s 228us/step - loss: 1.3684 - accuracy: 0.5095 - val_loss: 1.3929 - val_accuracy: 0.5047\n",
      "Epoch 45/50\n",
      "50000/50000 [==============================] - 11s 222us/step - loss: 1.3619 - accuracy: 0.5111 - val_loss: 1.3755 - val_accuracy: 0.5093\n",
      "Epoch 46/50\n",
      "50000/50000 [==============================] - 11s 225us/step - loss: 1.3566 - accuracy: 0.5137 - val_loss: 1.3857 - val_accuracy: 0.5129\n",
      "Epoch 47/50\n",
      "50000/50000 [==============================] - 11s 227us/step - loss: 1.3498 - accuracy: 0.5162 - val_loss: 1.3864 - val_accuracy: 0.5074\n",
      "Epoch 48/50\n",
      "50000/50000 [==============================] - 11s 227us/step - loss: 1.3474 - accuracy: 0.5157 - val_loss: 1.3745 - val_accuracy: 0.5147\n",
      "Epoch 49/50\n",
      "50000/50000 [==============================] - 11s 227us/step - loss: 1.3489 - accuracy: 0.5155 - val_loss: 1.3724 - val_accuracy: 0.5107\n",
      "Epoch 50/50\n",
      "50000/50000 [==============================] - 11s 227us/step - loss: 1.3439 - accuracy: 0.5179 - val_loss: 1.3673 - val_accuracy: 0.5112\n"
     ]
    }
   ],
   "source": [
    "results = {}\n",
    "\n",
    "model = build_mlp(input_shape=x_train.shape[1:], drp_ratio=Dropout_EXP)\n",
    "model.summary()\n",
    "optimizer = keras.optimizers.Adam(lr=LEARNING_RATE, beta_1=0.9, beta_2=0.999)\n",
    "model.compile(loss=\"categorical_crossentropy\", metrics=[\"accuracy\"], optimizer=optimizer)\n",
    "\n",
    "model.fit(x_train, y_train, \n",
    "          epochs=EPOCHS, \n",
    "          batch_size=BATCH_SIZE, \n",
    "          validation_data=(x_test, y_test), \n",
    "          shuffle=True)\n",
    "\n",
    "# Collect results\n",
    "train_loss = model.history.history[\"loss\"]\n",
    "valid_loss = model.history.history[\"val_loss\"]\n",
    "train_acc = model.history.history[\"accuracy\"]\n",
    "valid_acc = model.history.history[\"val_accuracy\"]"
   ]
  },
  {
   "cell_type": "code",
   "execution_count": 8,
   "metadata": {},
   "outputs": [
    {
     "data": {
      "image/png": "[encoded data removed]",
      "text/plain": [
       "<Figure size 432x288 with 1 Axes>"
      ]
     },
     "metadata": {
      "needs_background": "light"
     },
     "output_type": "display_data"
    },
    {
     "data": {
      "image/png": "[encoded data removed]",
      "text/plain": [
       "<Figure size 432x288 with 1 Axes>"
      ]
     },
     "metadata": {
      "needs_background": "light"
     },
     "output_type": "display_data"
    }
   ],
   "source": [
    "import matplotlib.pyplot as plt\n",
    "%matplotlib inline\n",
    "\n",
    "plt.plot(range(len(train_loss)), train_loss, label=\"train loss\")\n",
    "plt.plot(range(len(valid_loss)), valid_loss, label=\"valid loss\")\n",
    "plt.legend()\n",
    "plt.title(\"Loss\")\n",
    "plt.show()\n",
    "\n",
    "plt.plot(range(len(train_acc)), train_acc, label=\"train accuracy\")\n",
    "plt.plot(range(len(valid_acc)), valid_acc, label=\"valid accuracy\")\n",
    "plt.legend()\n",
    "plt.title(\"Accuracy\")\n",
    "plt.show()"
   ]
  }
 ],
 "metadata": {
  "kernelspec": {
   "display_name": "Python 3",
   "language": "python",
   "name": "python3"
  },
  "language_info": {
   "codemirror_mode": {
    "name": "ipython",
    "version": 3
   },
   "file_extension": ".py",
   "mimetype": "text/x-python",
   "name": "python",
   "nbconvert_exporter": "python",
   "pygments_lexer": "ipython3",
   "version": "3.7.5"
  }
 },
 "nbformat": 4,
 "nbformat_minor": 2
}
