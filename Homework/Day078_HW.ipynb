{
 "cells": [
  {
   "cell_type": "markdown",
   "metadata": {},
   "source": [
    "## Work\n",
    "1. 請嘗試將 preproc_x 替換成以每筆資料的 min/max 進行標準化至 -1 ~ 1 間，再進行訓練\n",
    "2. 請嘗試將 mlp 疊更深 (e.g 5~10 層)，進行訓練後觀察 learning curve 的走勢\n",
    "3. (optional) 請改用 GPU 進行訓練 (如果你有 GPU 的話)，比較使用 CPU 與 GPU 的訓練速度"
   ]
  },
  {
   "cell_type": "code",
   "execution_count": 1,
   "metadata": {},
   "outputs": [
    {
     "name": "stdout",
     "output_type": "stream",
     "text": [
      "/bin/sh: nvidia-smi: command not found\r\n"
     ]
    }
   ],
   "source": [
    "## \n",
    "\"\"\"\n",
    "Your code here (optional)\n",
    "確認硬體資源\n",
    "\"\"\"\n",
    "!nvidia-smi"
   ]
  },
  {
   "cell_type": "code",
   "execution_count": 2,
   "metadata": {},
   "outputs": [
    {
     "name": "stderr",
     "output_type": "stream",
     "text": [
      "Using TensorFlow backend.\n"
     ]
    }
   ],
   "source": [
    "import os\n",
    "import keras\n",
    "\n",
    "# 請嘗試設定 GPU：os.environ"
   ]
  },
  {
   "cell_type": "code",
   "execution_count": 3,
   "metadata": {},
   "outputs": [],
   "source": [
    "train, test = keras.datasets.cifar10.load_data()"
   ]
  },
  {
   "cell_type": "code",
   "execution_count": 4,
   "metadata": {},
   "outputs": [],
   "source": [
    "## 資料前處理\n",
    "\"\"\"\n",
    "Your code here\n",
    "\"\"\"\n",
    "def preproc_x(x, flatten=True):\n",
    "    x = 2*((x-x.min())/(x.max()-x.min())-0.5)\n",
    "    if flatten:\n",
    "        x = x.reshape((len(x), -1))\n",
    "    return x\n",
    "\n",
    "def preproc_y(y, num_classes=10):\n",
    "    if y.shape[-1] == 1:\n",
    "        y = keras.utils.to_categorical(y, num_classes)\n",
    "    return y \n"
   ]
  },
  {
   "cell_type": "code",
   "execution_count": 5,
   "metadata": {},
   "outputs": [],
   "source": [
    "x_train, y_train = train\n",
    "x_test, y_test = test\n",
    "\n",
    "# Preproc the inputs\n",
    "x_train = preproc_x(x_train)\n",
    "x_test = preproc_x(x_test)\n",
    "\n",
    "# Preprc the outputs\n",
    "y_train = preproc_y(y_train)\n",
    "y_test = preproc_y(y_test)"
   ]
  },
  {
   "cell_type": "code",
   "execution_count": 6,
   "metadata": {},
   "outputs": [
    {
     "name": "stdout",
     "output_type": "stream",
     "text": [
      "Model: \"model_1\"\n",
      "_________________________________________________________________\n",
      "Layer (type)                 Output Shape              Param #   \n",
      "=================================================================\n",
      "input_1 (InputLayer)         (None, 3072)              0         \n",
      "_________________________________________________________________\n",
      "hidden_layer1 (Dense)        (None, 512)               1573376   \n",
      "_________________________________________________________________\n",
      "hidden_layer2 (Dense)        (None, 256)               131328    \n",
      "_________________________________________________________________\n",
      "hidden_layer3 (Dense)        (None, 128)               32896     \n",
      "_________________________________________________________________\n",
      "hidden_layer4 (Dense)        (None, 64)                8256      \n",
      "_________________________________________________________________\n",
      "hidden_layer5 (Dense)        (None, 32)                2080      \n",
      "_________________________________________________________________\n",
      "hidden_layer6 (Dense)        (None, 16)                528       \n",
      "_________________________________________________________________\n",
      "hidden_layer7 (Dense)        (None, 8)                 136       \n",
      "_________________________________________________________________\n",
      "output (Dense)               (None, 10)                90        \n",
      "=================================================================\n",
      "Total params: 1,748,690\n",
      "Trainable params: 1,748,690\n",
      "Non-trainable params: 0\n",
      "_________________________________________________________________\n"
     ]
    }
   ],
   "source": [
    "def build_mlp(input_shape, output_units=10, num_neurons=[512, 256, 128, 64, 32, 16, 8]):\n",
    "    input_layer = keras.layers.Input(input_shape)\n",
    "    \n",
    "    for i, n_units in enumerate(num_neurons):\n",
    "        if i == 0:\n",
    "            x = keras.layers.Dense(units=n_units, activation=\"relu\", name=\"hidden_layer\"+str(i+1))(input_layer)\n",
    "        else:\n",
    "            x = keras.layers.Dense(units=n_units, activation=\"relu\", name=\"hidden_layer\"+str(i+1))(x)\n",
    "    \n",
    "    out = keras.layers.Dense(units=output_units, activation=\"softmax\", name=\"output\")(x)\n",
    "    \n",
    "    model = keras.models.Model(inputs=[input_layer], outputs=[out])\n",
    "    return model\n",
    "model = build_mlp(input_shape=x_train.shape[1:])\n",
    "model.summary()"
   ]
  },
  {
   "cell_type": "code",
   "execution_count": 7,
   "metadata": {},
   "outputs": [],
   "source": [
    "## 超參數設定\n",
    "LEARNING_RATE = 0.001\n",
    "EPOCHS = 100\n",
    "BATCH_SIZE = 256"
   ]
  },
  {
   "cell_type": "code",
   "execution_count": 8,
   "metadata": {},
   "outputs": [],
   "source": [
    "optimizer = keras.optimizers.Adam(lr=LEARNING_RATE)\n",
    "model.compile(loss=\"categorical_crossentropy\", metrics=[\"accuracy\"], optimizer=optimizer)"
   ]
  },
  {
   "cell_type": "code",
   "execution_count": 9,
   "metadata": {},
   "outputs": [
    {
     "name": "stdout",
     "output_type": "stream",
     "text": [
      "Train on 50000 samples, validate on 10000 samples\n",
      "Epoch 1/100\n",
      "50000/50000 [==============================] - 11s 220us/step - loss: 1.8979 - accuracy: 0.3221 - val_loss: 1.6669 - val_accuracy: 0.4260\n",
      "Epoch 2/100\n",
      "50000/50000 [==============================] - 10s 203us/step - loss: 1.5999 - accuracy: 0.4421 - val_loss: 1.5486 - val_accuracy: 0.4577\n",
      "Epoch 3/100\n",
      "50000/50000 [==============================] - 10s 201us/step - loss: 1.4608 - accuracy: 0.4908 - val_loss: 1.4561 - val_accuracy: 0.4875\n",
      "Epoch 4/100\n",
      "50000/50000 [==============================] - 12s 233us/step - loss: 1.3456 - accuracy: 0.5288 - val_loss: 1.4357 - val_accuracy: 0.4959\n",
      "Epoch 5/100\n",
      "50000/50000 [==============================] - 10s 207us/step - loss: 1.2630 - accuracy: 0.5550 - val_loss: 1.3765 - val_accuracy: 0.5213\n",
      "Epoch 6/100\n",
      "50000/50000 [==============================] - 10s 198us/step - loss: 1.1798 - accuracy: 0.5851 - val_loss: 1.3622 - val_accuracy: 0.5344\n",
      "Epoch 7/100\n",
      "50000/50000 [==============================] - 12s 243us/step - loss: 1.1093 - accuracy: 0.6113 - val_loss: 1.3503 - val_accuracy: 0.5337\n",
      "Epoch 8/100\n",
      "50000/50000 [==============================] - 11s 230us/step - loss: 1.0354 - accuracy: 0.6349 - val_loss: 1.4404 - val_accuracy: 0.5250\n",
      "Epoch 9/100\n",
      "50000/50000 [==============================] - 11s 225us/step - loss: 0.9625 - accuracy: 0.6615 - val_loss: 1.4369 - val_accuracy: 0.5294\n",
      "Epoch 10/100\n",
      "50000/50000 [==============================] - 10s 201us/step - loss: 0.8968 - accuracy: 0.6822 - val_loss: 1.4613 - val_accuracy: 0.5347\n",
      "Epoch 11/100\n",
      "50000/50000 [==============================] - 10s 190us/step - loss: 0.8378 - accuracy: 0.7047 - val_loss: 1.4597 - val_accuracy: 0.5379\n",
      "Epoch 12/100\n",
      "50000/50000 [==============================] - 10s 192us/step - loss: 0.7621 - accuracy: 0.7311 - val_loss: 1.5539 - val_accuracy: 0.5319\n",
      "Epoch 13/100\n",
      "50000/50000 [==============================] - 10s 191us/step - loss: 0.7116 - accuracy: 0.7472 - val_loss: 1.5961 - val_accuracy: 0.5407\n",
      "Epoch 14/100\n",
      "50000/50000 [==============================] - 10s 191us/step - loss: 0.6520 - accuracy: 0.7699 - val_loss: 1.6571 - val_accuracy: 0.5267\n",
      "Epoch 15/100\n",
      "50000/50000 [==============================] - 10s 191us/step - loss: 0.6002 - accuracy: 0.7864 - val_loss: 1.7539 - val_accuracy: 0.5277\n",
      "Epoch 16/100\n",
      "50000/50000 [==============================] - 10s 191us/step - loss: 0.5553 - accuracy: 0.8031 - val_loss: 1.8290 - val_accuracy: 0.5357\n",
      "Epoch 17/100\n",
      "50000/50000 [==============================] - 10s 191us/step - loss: 0.5148 - accuracy: 0.8179 - val_loss: 1.9199 - val_accuracy: 0.5296\n",
      "Epoch 18/100\n",
      "50000/50000 [==============================] - 10s 192us/step - loss: 0.4734 - accuracy: 0.8342 - val_loss: 2.0381 - val_accuracy: 0.5298\n",
      "Epoch 19/100\n",
      "50000/50000 [==============================] - 10s 196us/step - loss: 0.4416 - accuracy: 0.8428 - val_loss: 2.0361 - val_accuracy: 0.5307\n",
      "Epoch 20/100\n",
      "50000/50000 [==============================] - 10s 207us/step - loss: 0.4153 - accuracy: 0.8527 - val_loss: 2.0925 - val_accuracy: 0.5297\n",
      "Epoch 21/100\n",
      "50000/50000 [==============================] - 10s 191us/step - loss: 0.3698 - accuracy: 0.8692 - val_loss: 2.3395 - val_accuracy: 0.5354\n",
      "Epoch 22/100\n",
      "50000/50000 [==============================] - 10s 190us/step - loss: 0.3650 - accuracy: 0.8702 - val_loss: 2.2872 - val_accuracy: 0.5286\n",
      "Epoch 23/100\n",
      "50000/50000 [==============================] - 10s 191us/step - loss: 0.3290 - accuracy: 0.8835 - val_loss: 2.4168 - val_accuracy: 0.5333\n",
      "Epoch 24/100\n",
      "50000/50000 [==============================] - 10s 190us/step - loss: 0.3054 - accuracy: 0.8916 - val_loss: 2.5832 - val_accuracy: 0.5355\n",
      "Epoch 25/100\n",
      "50000/50000 [==============================] - 10s 191us/step - loss: 0.2909 - accuracy: 0.8978 - val_loss: 2.6168 - val_accuracy: 0.5295\n",
      "Epoch 26/100\n",
      "50000/50000 [==============================] - 11s 211us/step - loss: 0.2715 - accuracy: 0.9044 - val_loss: 2.6604 - val_accuracy: 0.5307\n",
      "Epoch 27/100\n",
      "50000/50000 [==============================] - 10s 190us/step - loss: 0.2639 - accuracy: 0.9075 - val_loss: 2.8184 - val_accuracy: 0.5212\n",
      "Epoch 28/100\n",
      "50000/50000 [==============================] - 10s 190us/step - loss: 0.2378 - accuracy: 0.9178 - val_loss: 2.7691 - val_accuracy: 0.5297\n",
      "Epoch 29/100\n",
      "50000/50000 [==============================] - 10s 192us/step - loss: 0.2263 - accuracy: 0.9201 - val_loss: 2.9497 - val_accuracy: 0.5311\n",
      "Epoch 30/100\n",
      "50000/50000 [==============================] - 10s 190us/step - loss: 0.2218 - accuracy: 0.9225 - val_loss: 2.9520 - val_accuracy: 0.5200\n",
      "Epoch 31/100\n",
      "50000/50000 [==============================] - 10s 199us/step - loss: 0.2277 - accuracy: 0.9195 - val_loss: 2.9857 - val_accuracy: 0.5287\n",
      "Epoch 32/100\n",
      "50000/50000 [==============================] - 10s 194us/step - loss: 0.2055 - accuracy: 0.9278 - val_loss: 3.0278 - val_accuracy: 0.5289\n",
      "Epoch 33/100\n",
      "50000/50000 [==============================] - 10s 192us/step - loss: 0.1896 - accuracy: 0.9339 - val_loss: 3.1128 - val_accuracy: 0.5315\n",
      "Epoch 34/100\n",
      "50000/50000 [==============================] - 10s 193us/step - loss: 0.1787 - accuracy: 0.9381 - val_loss: 3.3533 - val_accuracy: 0.5292\n",
      "Epoch 35/100\n",
      "50000/50000 [==============================] - 10s 194us/step - loss: 0.1881 - accuracy: 0.9353 - val_loss: 3.2745 - val_accuracy: 0.5299\n",
      "Epoch 36/100\n",
      "50000/50000 [==============================] - 10s 194us/step - loss: 0.1792 - accuracy: 0.9371 - val_loss: 3.1980 - val_accuracy: 0.5297\n",
      "Epoch 37/100\n",
      "50000/50000 [==============================] - 10s 194us/step - loss: 0.1648 - accuracy: 0.9436 - val_loss: 3.3738 - val_accuracy: 0.5282\n",
      "Epoch 38/100\n",
      "50000/50000 [==============================] - 10s 194us/step - loss: 0.1624 - accuracy: 0.9436 - val_loss: 3.4973 - val_accuracy: 0.5230\n",
      "Epoch 39/100\n",
      "50000/50000 [==============================] - 11s 211us/step - loss: 0.1598 - accuracy: 0.9436 - val_loss: 3.4753 - val_accuracy: 0.5321\n",
      "Epoch 40/100\n",
      "50000/50000 [==============================] - 10s 195us/step - loss: 0.1704 - accuracy: 0.9431 - val_loss: 3.4576 - val_accuracy: 0.5335\n",
      "Epoch 41/100\n",
      "50000/50000 [==============================] - 10s 193us/step - loss: 0.1323 - accuracy: 0.9550 - val_loss: 3.5508 - val_accuracy: 0.5326\n",
      "Epoch 42/100\n",
      "50000/50000 [==============================] - 10s 194us/step - loss: 0.1439 - accuracy: 0.9516 - val_loss: 3.6598 - val_accuracy: 0.5283\n",
      "Epoch 43/100\n",
      "50000/50000 [==============================] - 10s 194us/step - loss: 0.1506 - accuracy: 0.9487 - val_loss: 3.4660 - val_accuracy: 0.5308\n",
      "Epoch 44/100\n",
      "50000/50000 [==============================] - 10s 194us/step - loss: 0.1392 - accuracy: 0.9523 - val_loss: 3.5738 - val_accuracy: 0.5339\n",
      "Epoch 45/100\n",
      "50000/50000 [==============================] - 13s 252us/step - loss: 0.1221 - accuracy: 0.9583 - val_loss: 3.5310 - val_accuracy: 0.5273\n",
      "Epoch 46/100\n",
      "50000/50000 [==============================] - 16s 316us/step - loss: 0.1373 - accuracy: 0.9536 - val_loss: 3.7257 - val_accuracy: 0.5250\n",
      "Epoch 47/100\n",
      "50000/50000 [==============================] - 12s 248us/step - loss: 0.1371 - accuracy: 0.9532 - val_loss: 3.8011 - val_accuracy: 0.5236\n",
      "Epoch 48/100\n",
      "50000/50000 [==============================] - 10s 207us/step - loss: 0.1136 - accuracy: 0.9616 - val_loss: 3.8212 - val_accuracy: 0.5276\n",
      "Epoch 49/100\n",
      "50000/50000 [==============================] - 11s 215us/step - loss: 0.1412 - accuracy: 0.9522 - val_loss: 3.7797 - val_accuracy: 0.5267\n",
      "Epoch 50/100\n",
      "50000/50000 [==============================] - 11s 229us/step - loss: 0.1270 - accuracy: 0.9579 - val_loss: 3.8074 - val_accuracy: 0.5369\n",
      "Epoch 51/100\n",
      "50000/50000 [==============================] - 11s 213us/step - loss: 0.0936 - accuracy: 0.9680 - val_loss: 4.0186 - val_accuracy: 0.5297\n",
      "Epoch 52/100\n",
      "50000/50000 [==============================] - 11s 211us/step - loss: 0.1298 - accuracy: 0.9568 - val_loss: 3.7738 - val_accuracy: 0.5334\n",
      "Epoch 53/100\n",
      "50000/50000 [==============================] - 10s 197us/step - loss: 0.1215 - accuracy: 0.9593 - val_loss: 3.8967 - val_accuracy: 0.5268\n",
      "Epoch 54/100\n",
      "50000/50000 [==============================] - 10s 196us/step - loss: 0.1104 - accuracy: 0.9635 - val_loss: 3.9787 - val_accuracy: 0.5245\n",
      "Epoch 55/100\n",
      "50000/50000 [==============================] - 10s 195us/step - loss: 0.1056 - accuracy: 0.9643 - val_loss: 3.8551 - val_accuracy: 0.5306\n",
      "Epoch 56/100\n",
      "50000/50000 [==============================] - 10s 197us/step - loss: 0.1291 - accuracy: 0.9574 - val_loss: 3.8677 - val_accuracy: 0.5346\n",
      "Epoch 57/100\n",
      "50000/50000 [==============================] - 10s 195us/step - loss: 0.0906 - accuracy: 0.9691 - val_loss: 3.9410 - val_accuracy: 0.5265\n",
      "Epoch 58/100\n",
      "50000/50000 [==============================] - 10s 194us/step - loss: 0.1164 - accuracy: 0.9614 - val_loss: 3.9167 - val_accuracy: 0.5267\n",
      "Epoch 59/100\n",
      "50000/50000 [==============================] - 10s 199us/step - loss: 0.0923 - accuracy: 0.9693 - val_loss: 4.2000 - val_accuracy: 0.5327\n",
      "Epoch 60/100\n",
      "50000/50000 [==============================] - 10s 195us/step - loss: 0.1013 - accuracy: 0.9669 - val_loss: 4.0856 - val_accuracy: 0.5310\n",
      "Epoch 61/100\n",
      "50000/50000 [==============================] - 10s 205us/step - loss: 0.1004 - accuracy: 0.9669 - val_loss: 4.1083 - val_accuracy: 0.5326\n",
      "Epoch 62/100\n",
      "50000/50000 [==============================] - 10s 198us/step - loss: 0.0993 - accuracy: 0.9680 - val_loss: 3.9816 - val_accuracy: 0.5320\n",
      "Epoch 63/100\n",
      "50000/50000 [==============================] - 10s 200us/step - loss: 0.0972 - accuracy: 0.9671 - val_loss: 4.1127 - val_accuracy: 0.5299\n",
      "Epoch 64/100\n",
      "50000/50000 [==============================] - 10s 196us/step - loss: 0.0981 - accuracy: 0.9679 - val_loss: 3.9449 - val_accuracy: 0.5295\n",
      "Epoch 65/100\n",
      "50000/50000 [==============================] - 10s 195us/step - loss: 0.0832 - accuracy: 0.9729 - val_loss: 4.1918 - val_accuracy: 0.5350\n",
      "Epoch 66/100\n",
      "50000/50000 [==============================] - 10s 195us/step - loss: 0.0965 - accuracy: 0.9689 - val_loss: 4.1287 - val_accuracy: 0.5255\n",
      "Epoch 67/100\n",
      "50000/50000 [==============================] - 10s 194us/step - loss: 0.0803 - accuracy: 0.9743 - val_loss: 4.2306 - val_accuracy: 0.5327\n",
      "Epoch 68/100\n",
      "50000/50000 [==============================] - 10s 201us/step - loss: 0.1010 - accuracy: 0.9674 - val_loss: 4.0855 - val_accuracy: 0.5360\n",
      "Epoch 69/100\n",
      "50000/50000 [==============================] - 10s 198us/step - loss: 0.0923 - accuracy: 0.9693 - val_loss: 4.1942 - val_accuracy: 0.5375\n",
      "Epoch 70/100\n",
      "50000/50000 [==============================] - 10s 204us/step - loss: 0.0820 - accuracy: 0.9733 - val_loss: 4.3590 - val_accuracy: 0.5215\n",
      "Epoch 71/100\n",
      "50000/50000 [==============================] - 11s 222us/step - loss: 0.1101 - accuracy: 0.9639 - val_loss: 4.0755 - val_accuracy: 0.5323\n",
      "Epoch 72/100\n",
      "50000/50000 [==============================] - 15s 302us/step - loss: 0.0765 - accuracy: 0.9754 - val_loss: 4.3243 - val_accuracy: 0.5324\n",
      "Epoch 73/100\n",
      "50000/50000 [==============================] - 17s 340us/step - loss: 0.0905 - accuracy: 0.9701 - val_loss: 4.1866 - val_accuracy: 0.5366\n",
      "Epoch 74/100\n",
      "50000/50000 [==============================] - 12s 232us/step - loss: 0.0689 - accuracy: 0.9767 - val_loss: 4.4452 - val_accuracy: 0.5313\n",
      "Epoch 75/100\n",
      "50000/50000 [==============================] - 12s 235us/step - loss: 0.0921 - accuracy: 0.9705 - val_loss: 4.1029 - val_accuracy: 0.5326\n",
      "Epoch 76/100\n",
      "50000/50000 [==============================] - 11s 228us/step - loss: 0.0810 - accuracy: 0.9735 - val_loss: 4.3459 - val_accuracy: 0.5264\n",
      "Epoch 77/100\n",
      "50000/50000 [==============================] - 11s 228us/step - loss: 0.0781 - accuracy: 0.9751 - val_loss: 4.2758 - val_accuracy: 0.5413\n",
      "Epoch 78/100\n",
      "50000/50000 [==============================] - 15s 294us/step - loss: 0.0707 - accuracy: 0.9772 - val_loss: 4.1593 - val_accuracy: 0.5374\n",
      "Epoch 79/100\n",
      "50000/50000 [==============================] - 13s 260us/step - loss: 0.0732 - accuracy: 0.9763 - val_loss: 4.2271 - val_accuracy: 0.5347\n",
      "Epoch 80/100\n",
      "50000/50000 [==============================] - 13s 253us/step - loss: 0.0845 - accuracy: 0.9726 - val_loss: 4.2673 - val_accuracy: 0.5224\n",
      "Epoch 81/100\n",
      "50000/50000 [==============================] - 12s 240us/step - loss: 0.0828 - accuracy: 0.9726 - val_loss: 4.1503 - val_accuracy: 0.5307\n",
      "Epoch 82/100\n",
      "50000/50000 [==============================] - 12s 248us/step - loss: 0.0690 - accuracy: 0.9769 - val_loss: 4.4189 - val_accuracy: 0.5348\n",
      "Epoch 83/100\n",
      "50000/50000 [==============================] - 13s 262us/step - loss: 0.0880 - accuracy: 0.9711 - val_loss: 4.2389 - val_accuracy: 0.5351\n",
      "Epoch 84/100\n",
      "50000/50000 [==============================] - 12s 232us/step - loss: 0.0732 - accuracy: 0.9767 - val_loss: 4.3603 - val_accuracy: 0.5301\n",
      "Epoch 85/100\n",
      "50000/50000 [==============================] - 12s 234us/step - loss: 0.0709 - accuracy: 0.9779 - val_loss: 4.2847 - val_accuracy: 0.5312\n",
      "Epoch 86/100\n",
      "50000/50000 [==============================] - 11s 229us/step - loss: 0.0634 - accuracy: 0.9796 - val_loss: 4.4457 - val_accuracy: 0.5353\n",
      "Epoch 87/100\n",
      "50000/50000 [==============================] - 12s 232us/step - loss: 0.0750 - accuracy: 0.9758 - val_loss: 4.5028 - val_accuracy: 0.5262\n",
      "Epoch 88/100\n",
      "50000/50000 [==============================] - 12s 248us/step - loss: 0.0677 - accuracy: 0.9780 - val_loss: 4.4374 - val_accuracy: 0.5284\n",
      "Epoch 89/100\n",
      "50000/50000 [==============================] - 12s 232us/step - loss: 0.0710 - accuracy: 0.9759 - val_loss: 4.4299 - val_accuracy: 0.5340\n",
      "Epoch 90/100\n",
      "50000/50000 [==============================] - 12s 233us/step - loss: 0.0614 - accuracy: 0.9807 - val_loss: 4.5325 - val_accuracy: 0.5366\n",
      "Epoch 91/100\n",
      "50000/50000 [==============================] - 12s 236us/step - loss: 0.0734 - accuracy: 0.9768 - val_loss: 4.3823 - val_accuracy: 0.5338\n",
      "Epoch 92/100\n",
      "50000/50000 [==============================] - 11s 225us/step - loss: 0.0622 - accuracy: 0.9799 - val_loss: 4.4279 - val_accuracy: 0.5329\n",
      "Epoch 93/100\n",
      "50000/50000 [==============================] - 12s 245us/step - loss: 0.0664 - accuracy: 0.9782 - val_loss: 4.3902 - val_accuracy: 0.5262\n",
      "Epoch 94/100\n",
      "50000/50000 [==============================] - 12s 233us/step - loss: 0.0883 - accuracy: 0.9724 - val_loss: 4.3679 - val_accuracy: 0.5291\n",
      "Epoch 95/100\n",
      "50000/50000 [==============================] - 11s 228us/step - loss: 0.0595 - accuracy: 0.9808 - val_loss: 4.5693 - val_accuracy: 0.5351\n",
      "Epoch 96/100\n",
      "50000/50000 [==============================] - 12s 243us/step - loss: 0.0529 - accuracy: 0.9828 - val_loss: 4.6925 - val_accuracy: 0.5347\n",
      "Epoch 97/100\n",
      "50000/50000 [==============================] - 13s 258us/step - loss: 0.0704 - accuracy: 0.9768 - val_loss: 4.3512 - val_accuracy: 0.5317\n",
      "Epoch 98/100\n",
      "50000/50000 [==============================] - 11s 227us/step - loss: 0.0686 - accuracy: 0.9775 - val_loss: 4.4869 - val_accuracy: 0.5324\n",
      "Epoch 99/100\n",
      "50000/50000 [==============================] - 11s 225us/step - loss: 0.0582 - accuracy: 0.9817 - val_loss: 4.4977 - val_accuracy: 0.5309\n",
      "Epoch 100/100\n",
      "50000/50000 [==============================] - 11s 226us/step - loss: 0.0735 - accuracy: 0.9769 - val_loss: 4.3651 - val_accuracy: 0.5330\n"
     ]
    },
    {
     "data": {
      "text/plain": [
       "<keras.callbacks.callbacks.History at 0x14582af50>"
      ]
     },
     "execution_count": 9,
     "metadata": {},
     "output_type": "execute_result"
    }
   ],
   "source": [
    "model.fit(x_train, y_train, \n",
    "          epochs=EPOCHS, \n",
    "          batch_size=BATCH_SIZE, \n",
    "          validation_data=(x_test, y_test), \n",
    "          shuffle=True)"
   ]
  },
  {
   "cell_type": "code",
   "execution_count": 11,
   "metadata": {},
   "outputs": [
    {
     "data": {
      "image/png": "[encoded data removed]",
      "text/plain": [
       "<Figure size 432x288 with 1 Axes>"
      ]
     },
     "metadata": {
      "needs_background": "light"
     },
     "output_type": "display_data"
    },
    {
     "data": {
      "image/png": "[encoded data removed]",
      "text/plain": [
       "<Figure size 432x288 with 1 Axes>"
      ]
     },
     "metadata": {
      "needs_background": "light"
     },
     "output_type": "display_data"
    }
   ],
   "source": [
    "import matplotlib.pyplot as plt\n",
    "\n",
    "\n",
    "train_loss = model.history.history[\"loss\"]\n",
    "valid_loss = model.history.history[\"val_loss\"]\n",
    "\n",
    "train_acc = model.history.history[\"accuracy\"]\n",
    "valid_acc = model.history.history[\"val_accuracy\"]\n",
    "\n",
    "plt.plot(range(len(train_loss)), train_loss, label=\"train loss\")\n",
    "plt.plot(range(len(valid_loss)), valid_loss, label=\"valid loss\")\n",
    "plt.legend()\n",
    "plt.title(\"Loss\")\n",
    "plt.show()\n",
    "\n",
    "plt.plot(range(len(train_acc)), train_acc, label=\"train accuracy\")\n",
    "plt.plot(range(len(valid_acc)), valid_acc, label=\"valid accuracy\")\n",
    "plt.legend()\n",
    "plt.title(\"Accuracy\")\n",
    "plt.show()"
   ]
  },
  {
   "cell_type": "code",
   "execution_count": null,
   "metadata": {},
   "outputs": [],
   "source": []
  }
 ],
 "metadata": {
  "kernelspec": {
   "display_name": "Python 3",
   "language": "python",
   "name": "python3"
  },
  "language_info": {
   "codemirror_mode": {
    "name": "ipython",
    "version": 3
   },
   "file_extension": ".py",
   "mimetype": "text/x-python",
   "name": "python",
   "nbconvert_exporter": "python",
   "pygments_lexer": "ipython3",
   "version": "3.7.5"
  }
 },
 "nbformat": 4,
 "nbformat_minor": 2
}
